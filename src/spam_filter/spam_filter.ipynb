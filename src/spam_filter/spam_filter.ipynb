{
 "cells": [
  {
   "cell_type": "markdown",
   "metadata": {},
   "source": [
    "# Spam Filter"
   ]
  },
  {
   "cell_type": "markdown",
   "metadata": {},
   "source": [
    "Name: Elias Zischg\n",
    "\n",
    "Date: 03.01.2025\n",
    "\n",
    "Assignment: Design a spam filter using the 'Apache Assassin`s public dataset'. The procedure requires data cleaning, splitting the data into training and test set, vectorizing the data and finally trying out different classifiers, while checking both recall and precision.\n",
    "\n",
    "This project extracts the Headers and Body of the emails and stores them in a pandas Dataframe. Additionally the emails get labels with ones and zeros, so that the classifiers can be used. I than clean the data using regualr expression and convert the data into a sparse vector, while doing further data cleaning. Afterwards the data gets split into training and test sets, where I use five different classifiers to chekc which one has the best Precision- and Recall scores, alongside the Accuracy. I also try if a Voting Classifier consisting of all the classifiers combined gets better results. Furthermore I plot and compare the Confusion Matrix for both the training and test sets of the Voting Classifier and the single Classifier with the highest scores."
   ]
  },
  {
   "cell_type": "markdown",
   "metadata": {},
   "source": [
    "### This is my solution to the Data Science assignment: 'Designing a Spam Filter' "
   ]
  },
  {
   "cell_type": "markdown",
   "metadata": {},
   "source": [
    "First I import all the necessary libraries. The first 5 are for data cleaning and the others are the sklearn libraries for the data splitting, the classifiers and the precision- and recoil scores. \n",
    "\n",
    "After the imports I wrote a function which opens and reads the header and body of the email. I also cheack for HTML tags in the body and remove them. Then I return the email`s header and body. "
   ]
  },
  {
   "cell_type": "code",
   "execution_count": 1,
   "metadata": {},
   "outputs": [],
   "source": [
    "import pandas as pd\n",
    "import numpy as np\n",
    "import os\n",
    "import email\n",
    "from bs4 import BeautifulSoup\n",
    "import matplotlib.pyplot as plt\n",
    "from sklearn.model_selection import train_test_split\n",
    "from sklearn.feature_extraction.text import TfidfVectorizer\n",
    "from sklearn.naive_bayes import MultinomialNB\n",
    "from sklearn.neighbors import KNeighborsClassifier\n",
    "from sklearn.linear_model import LogisticRegression, SGDClassifier\n",
    "from sklearn.tree import DecisionTreeClassifier\n",
    "from sklearn.ensemble import RandomForestClassifier\n",
    "from sklearn.svm import SVC\n",
    "from sklearn.ensemble import VotingClassifier\n",
    "from sklearn.metrics import confusion_matrix\n",
    "from sklearn.metrics import precision_score, recall_score\n",
    "\n",
    "\n",
    "\n",
    "def extract_email(file_path):\n",
    "    \"\"\"\n",
    "    Read each email in the directory & parse email info\n",
    "    Path: Variable used to define folder location\n",
    "    \"\"\"\n",
    "    with open(file_path, 'rb') as f:\n",
    "        msg = email.message_from_bytes(f.read())\n",
    "        \n",
    "    # Get email headers\n",
    "    headers = msg.get('Headers')\n",
    "    \n",
    "    # Read email’s body\n",
    "    body = str(msg.get_payload())\n",
    "    \n",
    "    # Check if body contains HTML tags\n",
    "    if '<' in body and '>' in body:\n",
    "        # Remove HTML tags if it's valid markup\n",
    "        body = BeautifulSoup(body, features='html.parser').get_text()\n",
    "    return headers, body"
   ]
  },
  {
   "cell_type": "markdown",
   "metadata": {},
   "source": [
    "After getting the headers and body of the emails I want to convert them into a dataframe, so I can use them for the classifiers. I want the dataframe to have the email with labels. Therefore I first write a function that iterates through the whole dataset folders, extracts them using the function from above and adds them to the dataframe. Afterwards I than add another column to the dataframe, where I convert ham into zeros and spam into ones, so I have the lables as numbers. Next the labels are added into the dataframes and both are combined with the *.concat* function, so I get one dataframe containing all the email with their respective labels. I also check that the labels are integers and not strings, which makes it easier to handle afterwards. Then I clean up the emails using regular expressions."
   ]
  },
  {
   "cell_type": "code",
   "execution_count": 2,
   "metadata": {},
   "outputs": [
    {
     "name": "stdout",
     "output_type": "stream",
     "text": [
      "                                               email  spam (1) or ham (0)\n",
      "0  none date wed number aug number numbernumbernu...                    0\n",
      "1  none martin a postedrntassos papadopoulos the ...                    0\n",
      "2  none man threatens explosion in moscow rnrnthu...                    0\n",
      "3  none klez the virus that wont diern rnalready ...                    0\n",
      "4  none on wed aug number number at numbernumber ...                    0\n"
     ]
    }
   ],
   "source": [
    "ham_path = '../../dataset/easy_ham'\n",
    "spam_path = '../../dataset/spam'\n",
    "\n",
    "\n",
    "ham = []\n",
    "spam = []\n",
    "\n",
    "def email_to_dataframe(directory_path, list):\n",
    "    for file in os.listdir(directory_path):\n",
    "        file_path = f\"{directory_path}/{file}\"\n",
    "        each_email = extract_email(file_path)\n",
    "        list.append(each_email)\n",
    "\n",
    "email_to_dataframe(ham_path, ham)\n",
    "email_to_dataframe(spam_path, spam)\n",
    "\n",
    "ham_0 = pd.Series(np.zeros(len(ham)))\n",
    "spam_1 = pd.Series(np.ones(len(spam)))\n",
    "\n",
    "df_ham = pd.DataFrame()\n",
    "df_ham['email'] = ham\n",
    "df_ham['spam (1) or ham (0)'] = ham_0\n",
    "\n",
    "df_spam = pd.DataFrame()\n",
    "df_spam['email'] = spam\n",
    "df_spam['spam (1) or ham (0)'] = spam_1\n",
    "\n",
    "df = pd.concat([df_ham, df_spam], ignore_index=True)\n",
    "df['email'] = df['email'].astype(str)\n",
    "df['spam (1) or ham (0)'] = df['spam (1) or ham (0)'].astype(int)\n",
    "\n",
    "\n",
    "# Preprocessing\n",
    "\n",
    "# Remove URL\n",
    "df['email'] = df['email'].str.replace(r'http[s]?://(?:[a-zA-Z]|[0-9]|[$-_@.&+]|[!*\\(\\),]|(?:%[0-9a-fA-F][0-9a-fA-F]))+', 'URL', regex=True)\n",
    "# Remove numbers\n",
    "df['email'] = df['email'].str.replace(r'\\b\\d+\\b', 'NUMBER', regex=True)\n",
    "# Remove special characters\n",
    "df['email'] = df['email'].str.replace(r'[^\\w\\s]', '', regex=True)\n",
    "# Remove extra spaces\n",
    "df['email'] = df['email'].str.lower()\n",
    "# Remove excess whitespace\n",
    "df['email'] = df['email'].str.replace(r'\\s+', ' ', regex=True).str.strip()\n",
    "\n",
    "\n",
    "print(df.head())"
   ]
  },
  {
   "cell_type": "markdown",
   "metadata": {},
   "source": [
    "After the cleaning the data and converting it to a labeled dataframe I transform the emails into a sparse vector, using the *TfidfVectorizer* from sklearn. The argument *stop_words='english'* removes stop words of the english language, for example 'and', 'the' and 'him'. It also automatically convert all characters to lower case before tokenizing (this is a default but I did it in the cleaning before anyway) and I use the *strip_accents='unicode'* argument to convert letters with accents to their closest non-accent couterparts. For example café becomes cafe. "
   ]
  },
  {
   "cell_type": "code",
   "execution_count": 3,
   "metadata": {},
   "outputs": [],
   "source": [
    "tf_idf = TfidfVectorizer(stop_words = 'english', strip_accents='unicode')\n",
    "\n",
    "bow = tf_idf.fit_transform(df['email']).toarray()\n",
    "\n",
    "vect = pd.DataFrame(bow, columns=tf_idf.get_feature_names_out())\n",
    "vect['spam (1) or ham (0)'] = df['spam (1) or ham (0)']"
   ]
  },
  {
   "cell_type": "markdown",
   "metadata": {},
   "source": [
    "Now that the data is cleaned and prepared it can be spilt into training and test data"
   ]
  },
  {
   "cell_type": "code",
   "execution_count": 4,
   "metadata": {},
   "outputs": [],
   "source": [
    "X_train, X_test, y_train, y_test = train_test_split(vect.iloc[:,:-1], vect['spam (1) or ham (0)'], test_size = 0.2)"
   ]
  },
  {
   "cell_type": "markdown",
   "metadata": {},
   "source": [
    "Now I can use some classifiers. I decided to try out 5 common ones I thought would get me interesting results. I decided on trying Stochastic Gradient Descent, Naive Bayes, K-Neighbors, Logistic Regression and a Decision Tree. I make a dataframe to store the results and than loop through the classifiers and print the Precision, Recall and Accuracy. For reference it took under 40 seconds to run this cell on my PC, if it takes way longer there might be some issues. "
   ]
  },
  {
   "cell_type": "code",
   "execution_count": 14,
   "metadata": {},
   "outputs": [
    {
     "name": "stdout",
     "output_type": "stream",
     "text": [
      "   Metric  StochasticGradientDescent Train  StochasticGradientDescent Test  NaiveBayes Train  NaiveBayes Test  KNeighbors Train  KNeighbors Test  LogisticRegression Train  LogisticRegression Test  DecisionTree Train  DecisionTree Test\n",
      "Precision                         1.000000                        0.988372          1.000000         1.000000          1.000000         0.933333                  1.000000                 1.000000            1.000000           0.869565\n",
      "   Recall                         0.806283                        0.714286          0.170157         0.159664          0.253927         0.235294                  0.560209                 0.521008            0.808901           0.672269\n",
      " Accuracy                         0.969685                        0.942717          0.870135         0.836334          0.883245         0.847791                  0.931176                 0.906710            0.970094           0.916530\n"
     ]
    }
   ],
   "source": [
    "# Defining the classifiers\n",
    "clf_SGD = SGDClassifier()\n",
    "clf_NB = MultinomialNB()\n",
    "clf_KNN = KNeighborsClassifier()\n",
    "clf_LR = LogisticRegression()\n",
    "clf_DT = DecisionTreeClassifier()\n",
    "\n",
    "# Dictionary of classifiers\n",
    "classifiers = {'StochasticGradientDescent': clf_SGD, 'NaiveBayes': clf_NB, 'KNeighbors': clf_KNN, 'LogisticRegression': clf_LR, 'DecisionTree': clf_DT} \n",
    "\n",
    "# Dataframe to store the results\n",
    "results = pd.DataFrame(index = None)\n",
    "results['Metric'] = ['Precision', 'Recall', 'Accuracy']\n",
    "\n",
    "# Loop through the classifiers\n",
    "for clf_name, clf in classifiers.items():\n",
    "    # Train the classifier\n",
    "    clf.fit(X_train, y_train)\n",
    "\n",
    "    # Make predictions\n",
    "    y_pred_train = clf.predict(X_train)\n",
    "    y_pred_test = clf.predict(X_test)\n",
    "\n",
    "    # Collect results for training data\n",
    "    precision_train = precision_score(y_train, y_pred_train)\n",
    "    recall_train = recall_score(y_train, y_pred_train)\n",
    "    accuracy_train = clf.score(X_train, y_train)\n",
    "\n",
    "    # Collect results for test data\n",
    "    precision_test = precision_score(y_test, y_pred_test)\n",
    "    recall_test = recall_score(y_test, y_pred_test)\n",
    "    accuracy_test = clf.score(X_test, y_test)\n",
    "\n",
    "    # Append the results to the DataFrame\n",
    "    results[clf_name + ' Train'] = [precision_train, recall_train, accuracy_train]\n",
    "    results[clf_name + ' Test'] = [precision_test, recall_test, accuracy_test]\n",
    "\n",
    "\n",
    "print(results.to_string(index=False))"
   ]
  },
  {
   "cell_type": "markdown",
   "metadata": {},
   "source": [
    "The SGD and the Decision Tree seem to get the best results with Precision Score of 1.000 and nearly the same Recall Score of 0.806 and 0.809 and Accuracy of 0.969 and 0.970 for the training data but for the test data SGD is a lot better with over 12% higher Precision, 4% higher Recall and 2.5% higher Accuracy over the Decision Tree. That´s why I would stick with the Stochastic Gradient Descent for the spam filter."
   ]
  },
  {
   "cell_type": "markdown",
   "metadata": {},
   "source": [
    "I also wanted to try a Voting Classifier to see if the Recall gets better when combining all of the classifiers. I used hard voting, because the SGD Classifier doesn´t work with soft voting, because of problems with the probability calculation."
   ]
  },
  {
   "cell_type": "code",
   "execution_count": 22,
   "metadata": {},
   "outputs": [
    {
     "name": "stdout",
     "output_type": "stream",
     "text": [
      "   Metric  VotingClassifier Train  VotingClassifier Test\n",
      "Precision                1.000000               1.000000\n",
      "   Recall                0.602094               0.512605\n",
      " Accuracy                0.937730               0.905074\n"
     ]
    }
   ],
   "source": [
    "# Combine them into a VotingClassifier\n",
    "voting_clf = VotingClassifier(estimators=[\n",
    "    ('sgd', clf_SGD),\n",
    "    ('nb', clf_NB),\n",
    "    ('svc', clf_KNN),\n",
    "    ('lr', clf_LR),\n",
    "    ('dt', clf_DT)\n",
    "], voting='hard')  # 'hard' voting means majority voting\n",
    "\n",
    "# Train the ensemble model\n",
    "voting_clf.fit(X_train, y_train)\n",
    "\n",
    "# Predictions\n",
    "y_pred_train = voting_clf.predict(X_train)\n",
    "y_pred_test = voting_clf.predict(X_test)\n",
    "\n",
    "# Confusion matrix\n",
    "conf_mat_train_VCL = confusion_matrix(y_train, y_pred_train)\n",
    "conf_mat_test_VCL = confusion_matrix(y_test, y_pred_test)\n",
    "\n",
    "# Collect results\n",
    "results = pd.DataFrame(index = None)\n",
    "results['Metric'] = ['Precision', 'Recall', 'Accuracy']\n",
    "results['VotingClassifier Train'] = [\n",
    "    precision_score(y_train, y_pred_train),\n",
    "    recall_score(y_train, y_pred_train),\n",
    "    voting_clf.score(X_train, y_train)\n",
    "]\n",
    "results['VotingClassifier Test'] = [\n",
    "    precision_score(y_test, y_pred_test),\n",
    "    recall_score(y_test, y_pred_test),\n",
    "    voting_clf.score(X_test, y_test)\n",
    "]\n",
    "\n",
    "print(results.to_string(index=False))"
   ]
  },
  {
   "cell_type": "markdown",
   "metadata": {},
   "source": [
    "For the Voting Classifier i still get a Precision score of 1.000 for both training and test set, but much lower Recall compared to the SGD, at around 20% less for both sets. The other classifiers lower the overall score, compared to just the SGD Classifier."
   ]
  },
  {
   "cell_type": "markdown",
   "metadata": {},
   "source": [
    "I can visualize the difference in the Classifiers with learning curves and a confusion matrix. Here are the functions for plotting both."
   ]
  },
  {
   "cell_type": "code",
   "execution_count": 21,
   "metadata": {},
   "outputs": [],
   "source": [
    "def confusion_matrix_plot(conf_mat):\n",
    "    n = len(conf_mat)\n",
    "    plt.imshow(conf_mat, cmap='Blues', extent=[-0.5, n-0.5, -0.5, n-0.5])\n",
    "    \n",
    "    for i in range(n):\n",
    "        for j in range(n):\n",
    "            plt.text(i, j, conf_mat[n-j-1, i], ha='center', va='center')\n",
    "    \n",
    "    plt.colorbar()\n",
    "    plt.xticks(range(n))\n",
    "    plt.yticks(range(n), range(n-1, -1, -1))\n",
    "    plt.xlabel('Predicted Class')\n",
    "    plt.ylabel('True Class')\n",
    "    plt.plot\n",
    "\n",
    "\n",
    "def plot_learning_curve(test_error, training_size):\n",
    "    plt.plot(training_size, test_error)\n",
    "    plt.title(\"Learning Curve\")\n",
    "    plt.xlabel(\"Training Size\")\n",
    "    plt.ylabel(\"Test Accuracy\")\n",
    "    plt.plot"
   ]
  },
  {
   "cell_type": "markdown",
   "metadata": {},
   "source": [
    "I am plotting the Confusion Matrix for the training and test sets of the Voting Classifier."
   ]
  },
  {
   "cell_type": "code",
   "execution_count": 24,
   "metadata": {},
   "outputs": [
    {
     "name": "stdout",
     "output_type": "stream",
     "text": [
      "Train Confusion Matrix Voting Classifier:\n"
     ]
    },
    {
     "data": {
      "image/png": "[encoded data removed]",
      "text/plain": [
       "<Figure size 640x480 with 2 Axes>"
      ]
     },
     "metadata": {},
     "output_type": "display_data"
    }
   ],
   "source": [
    "print(\"Train Confusion Matrix Voting Classifier:\")\n",
    "confusion_matrix_plot(conf_mat_train_VCL)\n"
   ]
  },
  {
   "cell_type": "code",
   "execution_count": 25,
   "metadata": {},
   "outputs": [
    {
     "name": "stdout",
     "output_type": "stream",
     "text": [
      "Test Confusion Matrix Voting Classifier:\n"
     ]
    },
    {
     "data": {
      "image/png": "[encoded data removed]",
      "text/plain": [
       "<Figure size 640x480 with 2 Axes>"
      ]
     },
     "metadata": {},
     "output_type": "display_data"
    }
   ],
   "source": [
    "print(\"Test Confusion Matrix Voting Classifier:\")\n",
    "confusion_matrix_plot(conf_mat_test_VCL)"
   ]
  },
  {
   "cell_type": "markdown",
   "metadata": {},
   "source": [
    "I specifically use only the SGD Classifier here to show the difference"
   ]
  },
  {
   "cell_type": "code",
   "execution_count": 26,
   "metadata": {},
   "outputs": [],
   "source": [
    "clf_SGD = SGDClassifier()\n",
    "\n",
    "clf_SGD.fit(X_train, y_train)\n",
    "y_pred_train = clf_SGD.predict(X_train)\n",
    "y_pred_test = clf_SGD.predict(X_test)\n",
    "\n",
    "conf_mat_train_SGD = confusion_matrix(y_train, y_pred_train)\n",
    "conf_mat_test_SGD = confusion_matrix(y_test, y_pred_test)"
   ]
  },
  {
   "cell_type": "markdown",
   "metadata": {},
   "source": [
    "And here I am plotting the Confusion Matrix for the training and test sets of the Stochastic Gradient Descent Classifier."
   ]
  },
  {
   "cell_type": "code",
   "execution_count": 27,
   "metadata": {},
   "outputs": [
    {
     "name": "stdout",
     "output_type": "stream",
     "text": [
      "Train Confusion Matrix SGD:\n"
     ]
    },
    {
     "data": {
      "image/png": "[encoded data removed]",
      "text/plain": [
       "<Figure size 640x480 with 2 Axes>"
      ]
     },
     "metadata": {},
     "output_type": "display_data"
    }
   ],
   "source": [
    "print(\"Train Confusion Matrix SGD:\")\n",
    "confusion_matrix_plot(conf_mat_train_SGD)"
   ]
  },
  {
   "cell_type": "code",
   "execution_count": 28,
   "metadata": {},
   "outputs": [
    {
     "name": "stdout",
     "output_type": "stream",
     "text": [
      "Test Confusion Matrix SGD:\n"
     ]
    },
    {
     "data": {
      "image/png": "[encoded data removed]",
      "text/plain": [
       "<Figure size 640x480 with 2 Axes>"
      ]
     },
     "metadata": {},
     "output_type": "display_data"
    }
   ],
   "source": [
    "print(\"Test Confusion Matrix SGD:\")\n",
    "confusion_matrix_plot(conf_mat_test_SGD)"
   ]
  },
  {
   "cell_type": "markdown",
   "metadata": {},
   "source": [
    "With the plots it becomes clear, that the classifiers have more problems predicting the spam emails as spam, which was also shown in the much lower Recall scores. I used the Easy Ham data, maybe if I would use the 'normal' Ham data, the Precision would also go down. It is debatable if it is worse to still get spam emails but get all of your ham emails aswell or get fewer spam emails, but than also maybe miss an important email, because the algorithm falsly detects it as spam. Overall i think especially the SGD Classifier does a good job at detecting ham and spam emails. I think there could be improvements with better data cleaning or maybe there are other classifiers, that work better with text, for example Deep Learning, where I would probalby need more time than the suggested 20 hours to implement, but could be a fun project to come back to. The sklearn library has some supervised Neural Network models that could work very well.\n"
   ]
  },
  {
   "cell_type": "markdown",
   "metadata": {},
   "source": [
    "### DISCLAIMER: I thought about stopping here, but at this point I was having a lot of fun trying different classifiers and I want to include my honest opinion and reaction, although it might not be so professional, but I like keeping projects like this somewhat entertaining for me and hopefully also you, the reader."
   ]
  },
  {
   "cell_type": "markdown",
   "metadata": {},
   "source": [
    "Other people would maybe stop here, not me. I thought the Decision Tree was not that bad and what is better than one Decision Tree? Exactly a SVM! I would recommend looking at the results before trying the following code snippets. There might be some waiting times!"
   ]
  },
  {
   "cell_type": "code",
   "execution_count": 5,
   "metadata": {},
   "outputs": [
    {
     "name": "stdout",
     "output_type": "stream",
     "text": [
      "   Metric  SVM Classifier Train  SVM Classifier Test\n",
      "Precision              1.000000             0.983333\n",
      "   Recall              0.805288             0.694118\n",
      " Accuracy              0.966817             0.955810\n"
     ]
    }
   ],
   "source": [
    "# Initialize the SVM classifier\n",
    "clf_SVM = SVC(kernel='linear', random_state=42)\n",
    "\n",
    "# Fit the model to the training data\n",
    "clf_SVM.fit(X_train, y_train)\n",
    "\n",
    "# Make predictions on both training and test sets\n",
    "y_pred_train = clf_SVM.predict(X_train)\n",
    "y_pred_test = clf_SVM.predict(X_test)\n",
    "\n",
    "# Calculate confusion matrices\n",
    "conf_mat_train = confusion_matrix(y_train, y_pred_train)\n",
    "conf_mat_test = confusion_matrix(y_test, y_pred_test)\n",
    "\n",
    "# Calculate precision, recall, and accuracy\n",
    "precision_train = precision_score(y_train, y_pred_train)\n",
    "recall_train = recall_score(y_train, y_pred_train)\n",
    "accuracy_train = clf_SVM.score(X_train, y_train)\n",
    "\n",
    "precision_test = precision_score(y_test, y_pred_test)\n",
    "recall_test = recall_score(y_test, y_pred_test)\n",
    "accuracy_test = clf_SVM.score(X_test, y_test)\n",
    "\n",
    "# Store results in a DataFrame\n",
    "results = pd.DataFrame(index=None)\n",
    "results['Metric'] = ['Precision', 'Recall', 'Accuracy']\n",
    "results['SVM Classifier Train'] = [precision_train, recall_train, accuracy_train]\n",
    "results['SVM Classifier Test'] = [precision_test, recall_test, accuracy_test]\n",
    "\n",
    "# Print the results\n",
    "print(results.to_string(index=False))"
   ]
  },
  {
   "cell_type": "markdown",
   "metadata": {},
   "source": [
    "SVM is not it. It took my PC 11.5 minutes to run this code. It got Precision 1.000 and 0.983, Recall 0.805 and 0.694 and an Accuracy of 0.967 and 0.956. I mean the scores are quite good, they are nearly identical with the ones from the SGD Classifier, but it took me 11 more minutes to run it, so I don`t think Space Vector MAchines are the way to go here. "
   ]
  },
  {
   "cell_type": "markdown",
   "metadata": {},
   "source": [
    "I already teasered the Random Forest, so of course I am going to try one."
   ]
  },
  {
   "cell_type": "code",
   "execution_count": 6,
   "metadata": {},
   "outputs": [
    {
     "name": "stdout",
     "output_type": "stream",
     "text": [
      "   Metric  RandomForestClassifier Train  RandomForestClassifier Test\n",
      "Precision                      0.847251                     0.730337\n",
      "   Recall                      1.000000                     0.764706\n",
      " Accuracy                      0.969275                     0.927987\n"
     ]
    }
   ],
   "source": [
    "clf_RF = RandomForestClassifier(n_estimators=100, random_state=42)\n",
    "\n",
    "# Fit the model to the training data\n",
    "clf_RF.fit(X_train, y_train)\n",
    "\n",
    "# Make predictions on both training and test sets\n",
    "y_pred_train = clf_RF.predict(X_train)\n",
    "y_pred_test = clf_RF.predict(X_test)\n",
    "\n",
    "# Calculate confusion matrices\n",
    "conf_mat_train = confusion_matrix(y_train, y_pred_train)\n",
    "conf_mat_test = confusion_matrix(y_test, y_pred_test)\n",
    "\n",
    "# Calculate precision, recall, and accuracy\n",
    "precision_train = precision_score(y_train, y_pred_train)\n",
    "recall_train = recall_score(y_train, y_pred_train)\n",
    "accuracy_train = clf_RF.score(X_train, y_train)\n",
    "\n",
    "precision_test = precision_score(y_test, y_pred_test)\n",
    "recall_test = recall_score(y_test, y_pred_test)\n",
    "accuracy_test = clf_RF.score(X_test, y_test)\n",
    "\n",
    "# Store results in a DataFrame\n",
    "results = pd.DataFrame(index=None)\n",
    "results['Metric'] = ['Precision', 'Recall', 'Accuracy']\n",
    "results['RandomForestClassifier Train'] = [precision_train, recall_train, accuracy_train]\n",
    "results['RandomForestClassifier Test'] = [precision_test, recall_test, accuracy_test]\n",
    "\n",
    "# Print the results\n",
    "print(results.to_string(index=False))"
   ]
  },
  {
   "cell_type": "markdown",
   "metadata": {},
   "source": [
    "After 30 seconds I got my results and they were very surprising. This is the first classifier with a better Recall than Precision score. Precision was 0.847 and 0.730, Recall at 1.000 !! and 0.765 and the Accuracy was 0.969 and 0.928. Unfortunately the results from the testset aren`t that great, otherwise this could have been a contender for the discussion about prefering Precision or Recall. "
   ]
  },
  {
   "cell_type": "markdown",
   "metadata": {},
   "source": [
    "I had a bit more time so I wanted to see if Deep Learning would get me better results. Now I am writing this before I run the code, because I think it is more genuine this way. I used a guideline from TensorFlow/Keras, so I think the code should be good to go. "
   ]
  },
  {
   "cell_type": "markdown",
   "metadata": {},
   "source": [
    "Nevermind. First I had problems because TensoFlow does not work with Python 3.12, so I tried to change to Python 3.11, which did not work. Then I made a new folder and virtual environment but somehow TensorFlow still did not want to work. So i guess that is all. Overall I had fun during this project and the whole course was great."
   ]
  }
 ],
 "metadata": {
  "kernelspec": {
   "display_name": "Python 3",
   "language": "python",
   "name": "python3"
  },
  "language_info": {
   "codemirror_mode": {
    "name": "ipython",
    "version": 3
   },
   "file_extension": ".py",
   "mimetype": "text/x-python",
   "name": "python",
   "nbconvert_exporter": "python",
   "pygments_lexer": "ipython3",
   "version": "3.12.0"
  }
 },
 "nbformat": 4,
 "nbformat_minor": 2
}
